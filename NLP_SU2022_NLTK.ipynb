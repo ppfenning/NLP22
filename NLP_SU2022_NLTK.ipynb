{
  "nbformat": 4,
  "nbformat_minor": 0,
  "metadata": {
    "colab": {
      "name": "NLP_SU2022_NLTK.ipynb",
      "provenance": [],
      "include_colab_link": true
    },
    "kernelspec": {
      "name": "python3",
      "display_name": "Python 3"
    },
    "language_info": {
      "name": "python"
    }
  },
  "cells": [
    {
      "cell_type": "markdown",
      "metadata": {
        "id": "view-in-github",
        "colab_type": "text"
      },
      "source": [
        "<a href=\"https://colab.research.google.com/github/pfenningpat/NLP22/blob/main/NLP_SU2022_NLTK.ipynb\" target=\"_parent\"><img src=\"https://colab.research.google.com/assets/colab-badge.svg\" alt=\"Open In Colab\"/></a>"
      ]
    },
    {
      "cell_type": "code",
      "execution_count": null,
      "metadata": {
        "id": "J6lIm1OENMuh",
        "colab": {
          "base_uri": "https://localhost:8080/"
        },
        "outputId": "cf955ad5-04bb-46a0-bd99-8a1243e2c4c5"
      },
      "outputs": [
        {
          "output_type": "stream",
          "name": "stdout",
          "text": [
            "[nltk_data] Downloading package punkt to /root/nltk_data...\n",
            "[nltk_data]   Unzipping tokenizers/punkt.zip.\n",
            "[nltk_data] Downloading package gutenberg to /root/nltk_data...\n",
            "[nltk_data]   Unzipping corpora/gutenberg.zip.\n"
          ]
        },
        {
          "output_type": "execute_result",
          "data": {
            "text/plain": [
              "True"
            ]
          },
          "metadata": {},
          "execution_count": 1
        }
      ],
      "source": [
        "import nltk\n",
        "from nltk import *\n",
        "from nltk.tokenize import sent_tokenize, word_tokenize\n",
        "nltk.download('punkt')\n",
        "nltk.download('gutenberg')\n"
      ]
    },
    {
      "cell_type": "code",
      "source": [
        "nltk.download('book')"
      ],
      "metadata": {
        "id": "2AJxxx1lQxX0",
        "outputId": "d01a9966-2506-4888-fad8-f5f3c75aafa9",
        "colab": {
          "base_uri": "https://localhost:8080/"
        }
      },
      "execution_count": null,
      "outputs": [
        {
          "output_type": "stream",
          "name": "stdout",
          "text": [
            "[nltk_data] Downloading collection 'book'\n",
            "[nltk_data]    | \n",
            "[nltk_data]    | Downloading package abc to /root/nltk_data...\n",
            "[nltk_data]    |   Unzipping corpora/abc.zip.\n",
            "[nltk_data]    | Downloading package brown to /root/nltk_data...\n",
            "[nltk_data]    |   Unzipping corpora/brown.zip.\n",
            "[nltk_data]    | Downloading package chat80 to /root/nltk_data...\n",
            "[nltk_data]    |   Unzipping corpora/chat80.zip.\n",
            "[nltk_data]    | Downloading package cmudict to /root/nltk_data...\n",
            "[nltk_data]    |   Unzipping corpora/cmudict.zip.\n",
            "[nltk_data]    | Downloading package conll2000 to /root/nltk_data...\n",
            "[nltk_data]    |   Unzipping corpora/conll2000.zip.\n",
            "[nltk_data]    | Downloading package conll2002 to /root/nltk_data...\n",
            "[nltk_data]    |   Unzipping corpora/conll2002.zip.\n",
            "[nltk_data]    | Downloading package dependency_treebank to\n",
            "[nltk_data]    |     /root/nltk_data...\n",
            "[nltk_data]    |   Unzipping corpora/dependency_treebank.zip.\n",
            "[nltk_data]    | Downloading package genesis to /root/nltk_data...\n",
            "[nltk_data]    |   Unzipping corpora/genesis.zip.\n",
            "[nltk_data]    | Downloading package gutenberg to /root/nltk_data...\n",
            "[nltk_data]    |   Package gutenberg is already up-to-date!\n",
            "[nltk_data]    | Downloading package ieer to /root/nltk_data...\n",
            "[nltk_data]    |   Unzipping corpora/ieer.zip.\n",
            "[nltk_data]    | Downloading package inaugural to /root/nltk_data...\n",
            "[nltk_data]    |   Unzipping corpora/inaugural.zip.\n",
            "[nltk_data]    | Downloading package movie_reviews to\n",
            "[nltk_data]    |     /root/nltk_data...\n",
            "[nltk_data]    |   Unzipping corpora/movie_reviews.zip.\n",
            "[nltk_data]    | Downloading package nps_chat to /root/nltk_data...\n",
            "[nltk_data]    |   Unzipping corpora/nps_chat.zip.\n",
            "[nltk_data]    | Downloading package names to /root/nltk_data...\n",
            "[nltk_data]    |   Unzipping corpora/names.zip.\n",
            "[nltk_data]    | Downloading package ppattach to /root/nltk_data...\n",
            "[nltk_data]    |   Unzipping corpora/ppattach.zip.\n",
            "[nltk_data]    | Downloading package reuters to /root/nltk_data...\n",
            "[nltk_data]    | Downloading package senseval to /root/nltk_data...\n",
            "[nltk_data]    |   Unzipping corpora/senseval.zip.\n",
            "[nltk_data]    | Downloading package state_union to /root/nltk_data...\n",
            "[nltk_data]    |   Unzipping corpora/state_union.zip.\n",
            "[nltk_data]    | Downloading package stopwords to /root/nltk_data...\n",
            "[nltk_data]    |   Unzipping corpora/stopwords.zip.\n",
            "[nltk_data]    | Downloading package swadesh to /root/nltk_data...\n",
            "[nltk_data]    |   Unzipping corpora/swadesh.zip.\n",
            "[nltk_data]    | Downloading package timit to /root/nltk_data...\n",
            "[nltk_data]    |   Unzipping corpora/timit.zip.\n",
            "[nltk_data]    | Downloading package treebank to /root/nltk_data...\n",
            "[nltk_data]    |   Unzipping corpora/treebank.zip.\n",
            "[nltk_data]    | Downloading package toolbox to /root/nltk_data...\n",
            "[nltk_data]    |   Unzipping corpora/toolbox.zip.\n",
            "[nltk_data]    | Downloading package udhr to /root/nltk_data...\n",
            "[nltk_data]    |   Unzipping corpora/udhr.zip.\n",
            "[nltk_data]    | Downloading package udhr2 to /root/nltk_data...\n",
            "[nltk_data]    |   Unzipping corpora/udhr2.zip.\n",
            "[nltk_data]    | Downloading package unicode_samples to\n",
            "[nltk_data]    |     /root/nltk_data...\n",
            "[nltk_data]    |   Unzipping corpora/unicode_samples.zip.\n",
            "[nltk_data]    | Downloading package webtext to /root/nltk_data...\n",
            "[nltk_data]    |   Unzipping corpora/webtext.zip.\n",
            "[nltk_data]    | Downloading package wordnet to /root/nltk_data...\n",
            "[nltk_data]    |   Unzipping corpora/wordnet.zip.\n",
            "[nltk_data]    | Downloading package wordnet_ic to /root/nltk_data...\n",
            "[nltk_data]    |   Unzipping corpora/wordnet_ic.zip.\n",
            "[nltk_data]    | Downloading package words to /root/nltk_data...\n",
            "[nltk_data]    |   Unzipping corpora/words.zip.\n",
            "[nltk_data]    | Downloading package maxent_treebank_pos_tagger to\n",
            "[nltk_data]    |     /root/nltk_data...\n",
            "[nltk_data]    |   Unzipping taggers/maxent_treebank_pos_tagger.zip.\n",
            "[nltk_data]    | Downloading package maxent_ne_chunker to\n",
            "[nltk_data]    |     /root/nltk_data...\n",
            "[nltk_data]    |   Unzipping chunkers/maxent_ne_chunker.zip.\n",
            "[nltk_data]    | Downloading package universal_tagset to\n",
            "[nltk_data]    |     /root/nltk_data...\n",
            "[nltk_data]    |   Unzipping taggers/universal_tagset.zip.\n",
            "[nltk_data]    | Downloading package punkt to /root/nltk_data...\n",
            "[nltk_data]    |   Package punkt is already up-to-date!\n",
            "[nltk_data]    | Downloading package book_grammars to\n",
            "[nltk_data]    |     /root/nltk_data...\n",
            "[nltk_data]    |   Unzipping grammars/book_grammars.zip.\n",
            "[nltk_data]    | Downloading package city_database to\n",
            "[nltk_data]    |     /root/nltk_data...\n",
            "[nltk_data]    |   Unzipping corpora/city_database.zip.\n",
            "[nltk_data]    | Downloading package tagsets to /root/nltk_data...\n",
            "[nltk_data]    |   Unzipping help/tagsets.zip.\n",
            "[nltk_data]    | Downloading package panlex_swadesh to\n",
            "[nltk_data]    |     /root/nltk_data...\n",
            "[nltk_data]    | Downloading package averaged_perceptron_tagger to\n",
            "[nltk_data]    |     /root/nltk_data...\n",
            "[nltk_data]    |   Unzipping taggers/averaged_perceptron_tagger.zip.\n",
            "[nltk_data]    | \n",
            "[nltk_data]  Done downloading collection book\n"
          ]
        },
        {
          "output_type": "execute_result",
          "data": {
            "text/plain": [
              "True"
            ]
          },
          "metadata": {},
          "execution_count": 2
        }
      ]
    },
    {
      "cell_type": "code",
      "source": [
        "from nltk.book import *"
      ],
      "metadata": {
        "colab": {
          "base_uri": "https://localhost:8080/"
        },
        "id": "vFT9dWgbQRek",
        "outputId": "b05233b2-55ec-415c-d5c4-420512cf781b"
      },
      "execution_count": null,
      "outputs": [
        {
          "output_type": "stream",
          "name": "stdout",
          "text": [
            "*** Introductory Examples for the NLTK Book ***\n",
            "Loading text1, ..., text9 and sent1, ..., sent9\n",
            "Type the name of the text or sentence to view it.\n",
            "Type: 'texts()' or 'sents()' to list the materials.\n",
            "text1: Moby Dick by Herman Melville 1851\n",
            "text2: Sense and Sensibility by Jane Austen 1811\n",
            "text3: The Book of Genesis\n",
            "text4: Inaugural Address Corpus\n",
            "text5: Chat Corpus\n",
            "text6: Monty Python and the Holy Grail\n",
            "text7: Wall Street Journal\n",
            "text8: Personals Corpus\n",
            "text9: The Man Who Was Thursday by G . K . Chesterton 1908\n"
          ]
        }
      ]
    },
    {
      "cell_type": "code",
      "source": [
        "myText = \"Natural Language Processing, or NLP for short, is broadly defined as the automatic manipulation \" + \\\n",
        "           \"of natural language, like speech and text, by software.\"\n",
        "print(sent_tokenize(myText))\n",
        "print(word_tokenize(myText))"
      ],
      "metadata": {
        "colab": {
          "base_uri": "https://localhost:8080/"
        },
        "id": "Bol33RoUOSUx",
        "outputId": "0186c287-5c63-4b6d-af3b-8f55fb564f55"
      },
      "execution_count": null,
      "outputs": [
        {
          "output_type": "stream",
          "name": "stdout",
          "text": [
            "['Natural Language Processing, or NLP for short, is broadly defined as the automatic manipulation of natural language, like speech and text, by software.']\n",
            "['Natural', 'Language', 'Processing', ',', 'or', 'NLP', 'for', 'short', ',', 'is', 'broadly', 'defined', 'as', 'the', 'automatic', 'manipulation', 'of', 'natural', 'language', ',', 'like', 'speech', 'and', 'text', ',', 'by', 'software', '.']\n"
          ]
        }
      ]
    },
    {
      "cell_type": "code",
      "source": [
        "text1.concordance(\"monstrous\")"
      ],
      "metadata": {
        "colab": {
          "base_uri": "https://localhost:8080/"
        },
        "id": "1WkRZz_xP9x0",
        "outputId": "54b739d4-61d4-4661-d43a-24811f7c8c32"
      },
      "execution_count": null,
      "outputs": [
        {
          "output_type": "stream",
          "name": "stdout",
          "text": [
            "Displaying 11 of 11 matches:\n",
            "ong the former , one was of a most monstrous size . ... This came towards us , \n",
            "ON OF THE PSALMS . \" Touching that monstrous bulk of the whale or ork we have r\n",
            "ll over with a heathenish array of monstrous clubs and spears . Some were thick\n",
            "d as you gazed , and wondered what monstrous cannibal and savage could ever hav\n",
            "that has survived the flood ; most monstrous and most mountainous ! That Himmal\n",
            "they might scout at Moby Dick as a monstrous fable , or still worse and more de\n",
            "th of Radney .'\" CHAPTER 55 Of the Monstrous Pictures of Whales . I shall ere l\n",
            "ing Scenes . In connexion with the monstrous pictures of whales , I am strongly\n",
            "ere to enter upon those still more monstrous stories of them which are to be fo\n",
            "ght have been rummaged out of this monstrous cabinet there is no telling . But \n",
            "of Whale - Bones ; for Whales of a monstrous size are oftentimes cast up dead u\n"
          ]
        }
      ]
    },
    {
      "cell_type": "code",
      "source": [
        "text1.similar(\"monstrous\")"
      ],
      "metadata": {
        "colab": {
          "base_uri": "https://localhost:8080/"
        },
        "id": "NdBrL-eNS19G",
        "outputId": "b48e8a6b-488b-4690-a334-05a1f6833261"
      },
      "execution_count": null,
      "outputs": [
        {
          "output_type": "stream",
          "name": "stdout",
          "text": [
            "true contemptible christian abundant few part mean careful puzzled\n",
            "mystifying passing curious loving wise doleful gamesome singular\n",
            "delightfully perilous fearless\n"
          ]
        }
      ]
    },
    {
      "cell_type": "code",
      "source": [
        "print(text4.concordance('american'))\n"
      ],
      "metadata": {
        "colab": {
          "base_uri": "https://localhost:8080/"
        },
        "id": "jR4bUl_9SEpY",
        "outputId": "2e2b4ca5-9151-4544-c0c7-b815f2873952"
      },
      "execution_count": null,
      "outputs": [
        {
          "output_type": "stream",
          "name": "stdout",
          "text": [
            "Displaying 25 of 171 matches:\n",
            "ment entrusted to the hands of the American people . Besides the ordinary obje\n",
            "e He has been pleased to favor the American people with opportunities for deli\n",
            "nment may not be the choice of the American people , but of foreign nations . \n",
            "or , spirit , and resources of the American people , on which I have so often \n",
            "he duty and interest , of the same American people pledged to support the Cons\n",
            "e the pleasure and the pride of an American to ask , What farmer , what mechan\n",
            " sufferings of that portion of the American people have found their way to eve\n",
            "nent advantages attending it . The American people have encountered together g\n",
            " Fellow citizens , the will of the American people , expressed through their u\n",
            "e confidence and affections of the American people . Finally , it is my most f\n",
            " exemplified in the history of the American States . Occasionally , it is true\n",
            "ights possessed by each individual American citizen which in his compact with \n",
            "acknowledged property of all , the American citizen derives from no charter gr\n",
            " It is in this District only where American citizens are to be found who under\n",
            "id men in England spoke of \" their American subjects .\" Are there , indeed , c\n",
            "he people of the States , but free American citizens . Being in the latter con\n",
            "rrect idea of his own rights as an American citizen -- the grant to Congress o\n",
            "be the corner stone upon which our American political architects have reared t\n",
            " and happy people . Elected by the American people to the highest office known\n",
            "al attention of the Executive . As American freemen we can not but sympathize \n",
            "ly seek the protection of our flag American citizenship is an inviolable panop\n",
            "olable panoply for the security of American rights . And in this connection it\n",
            "h still animates the hearts of the American people , let me earnestly ask thei\n",
            "ople , under the protection of the American flag , have enjoyed civil and reli\n",
            "e unless my rightful masters , the American people , shall withhold the requis\n",
            "None\n",
            "the our human their great its his this united essential free national\n",
            "war domestic citizen individual political man freedom true\n",
            "None\n"
          ]
        }
      ]
    },
    {
      "cell_type": "code",
      "source": [
        "print(text4.similar('american'))"
      ],
      "metadata": {
        "colab": {
          "base_uri": "https://localhost:8080/"
        },
        "id": "D3mxnD-wSnlz",
        "outputId": "812c2fbb-1fa6-49d6-a92a-f745eccabea4"
      },
      "execution_count": null,
      "outputs": [
        {
          "output_type": "stream",
          "name": "stdout",
          "text": [
            "the our human their great its his this united essential free national\n",
            "war domestic citizen individual political man freedom true\n",
            "None\n"
          ]
        }
      ]
    },
    {
      "cell_type": "code",
      "source": [
        "mylist = [\"americans\", \"duties\", \"democracy\", \"constitution\",\"citizens\", \"America\"]\n",
        "text4.dispersion_plot(mylist) "
      ],
      "metadata": {
        "colab": {
          "base_uri": "https://localhost:8080/",
          "height": 295
        },
        "id": "AkQa1fjlTTII",
        "outputId": "3f0d1109-25ad-4398-91db-3d87aba5882a"
      },
      "execution_count": null,
      "outputs": [
        {
          "output_type": "display_data",
          "data": {
            "text/plain": [
              "<Figure size 432x288 with 1 Axes>"
            ],
            "image/png": "[encoded data removed]"
          },
          "metadata": {
            "needs_background": "light"
          }
        }
      ]
    },
    {
      "cell_type": "markdown",
      "source": [
        "print(len(set(text4)))\n",
        "print(len(text4))"
      ],
      "metadata": {
        "id": "GGD9ef9LVN_t"
      }
    },
    {
      "cell_type": "code",
      "source": [
        "text4.count(\"America\")"
      ],
      "metadata": {
        "colab": {
          "base_uri": "https://localhost:8080/"
        },
        "id": "xDYMbPp2WmLN",
        "outputId": "1482f23c-c6c6-4760-cb55-6fdaa421bc24"
      },
      "execution_count": null,
      "outputs": [
        {
          "output_type": "execute_result",
          "data": {
            "text/plain": [
              "240"
            ]
          },
          "metadata": {},
          "execution_count": 37
        }
      ]
    },
    {
      "cell_type": "code",
      "source": [
        "pip install lexical-diversity"
      ],
      "metadata": {
        "colab": {
          "base_uri": "https://localhost:8080/"
        },
        "id": "4NMvbZGLXLN2",
        "outputId": "3cca2df7-e80c-4b43-8609-a5b4ee7066fb"
      },
      "execution_count": null,
      "outputs": [
        {
          "output_type": "stream",
          "name": "stdout",
          "text": [
            "Looking in indexes: https://pypi.org/simple, https://us-python.pkg.dev/colab-wheels/public/simple/\n",
            "Collecting lexical-diversity\n",
            "  Downloading lexical_diversity-0.1.1-py3-none-any.whl (117 kB)\n",
            "\u001b[K     |████████████████████████████████| 117 kB 5.0 MB/s \n",
            "\u001b[?25hInstalling collected packages: lexical-diversity\n",
            "Successfully installed lexical-diversity-0.1.1\n"
          ]
        }
      ]
    },
    {
      "cell_type": "code",
      "source": [
        "def lexical_diversity(text):\n",
        "  return len(set(text)) / len(text)\n",
        "\n"
      ],
      "metadata": {
        "id": "dg-TKxmYYADk"
      },
      "execution_count": null,
      "outputs": []
    },
    {
      "cell_type": "code",
      "source": [
        "from lexical_diversity import lex_div"
      ],
      "metadata": {
        "id": "gxfWu8wjXVvR"
      },
      "execution_count": null,
      "outputs": []
    },
    {
      "cell_type": "code",
      "source": [
        "print(lexical_diversity((text4)))\n",
        "print(lexical_diversity((text5)))\n",
        "print(lexical_diversity((text3)))"
      ],
      "metadata": {
        "colab": {
          "base_uri": "https://localhost:8080/"
        },
        "id": "7luo9TRGW7Bc",
        "outputId": "3b75c63a-80b7-4fff-a11d-be83cd3b74f0"
      },
      "execution_count": null,
      "outputs": [
        {
          "output_type": "stream",
          "name": "stdout",
          "text": [
            "0.06556530042314962\n",
            "0.13477005109975562\n",
            "0.06230453042623537\n"
          ]
        }
      ]
    },
    {
      "cell_type": "code",
      "source": [
        "mylist"
      ],
      "metadata": {
        "colab": {
          "base_uri": "https://localhost:8080/"
        },
        "id": "ruJYkC29Zg8q",
        "outputId": "556e3a6c-20ce-4198-8f04-92e7721d2e0e"
      },
      "execution_count": null,
      "outputs": [
        {
          "output_type": "execute_result",
          "data": {
            "text/plain": [
              "['America', 'citizens', 'constitution', 'democracy', 'duties', 'americans']"
            ]
          },
          "metadata": {},
          "execution_count": 52
        }
      ]
    },
    {
      "cell_type": "code",
      "source": [
        "mylist[0:3]"
      ],
      "metadata": {
        "colab": {
          "base_uri": "https://localhost:8080/"
        },
        "id": "A3fERqfaZj8y",
        "outputId": "c2082971-d9d7-4758-b849-174dc77c264c"
      },
      "execution_count": null,
      "outputs": [
        {
          "output_type": "execute_result",
          "data": {
            "text/plain": [
              "['America', 'citizens', 'constitution']"
            ]
          },
          "metadata": {},
          "execution_count": 55
        }
      ]
    },
    {
      "cell_type": "code",
      "source": [
        "nltk.download('gutenberg')\n",
        "nltk.download('inaugural')"
      ],
      "metadata": {
        "colab": {
          "base_uri": "https://localhost:8080/"
        },
        "id": "Yy-iOWGxcFNX",
        "outputId": "a839ed5e-4dd0-4e00-a12d-f9b6feeaa453"
      },
      "execution_count": null,
      "outputs": [
        {
          "output_type": "stream",
          "name": "stdout",
          "text": [
            "[nltk_data] Downloading package gutenberg to /root/nltk_data...\n",
            "[nltk_data]   Package gutenberg is already up-to-date!\n",
            "[nltk_data] Downloading package inaugural to /root/nltk_data...\n",
            "[nltk_data]   Package inaugural is already up-to-date!\n"
          ]
        },
        {
          "output_type": "execute_result",
          "data": {
            "text/plain": [
              "True"
            ]
          },
          "metadata": {},
          "execution_count": 57
        }
      ]
    },
    {
      "cell_type": "code",
      "source": [
        "gutenberg.fileids()"
      ],
      "metadata": {
        "colab": {
          "base_uri": "https://localhost:8080/"
        },
        "id": "c6eb6RQSc6qg",
        "outputId": "fb76d82e-fb4e-4eb5-89af-fd07f0462d79"
      },
      "execution_count": null,
      "outputs": [
        {
          "output_type": "execute_result",
          "data": {
            "text/plain": [
              "['austen-emma.txt',\n",
              " 'austen-persuasion.txt',\n",
              " 'austen-sense.txt',\n",
              " 'bible-kjv.txt',\n",
              " 'blake-poems.txt',\n",
              " 'bryant-stories.txt',\n",
              " 'burgess-busterbrown.txt',\n",
              " 'carroll-alice.txt',\n",
              " 'chesterton-ball.txt',\n",
              " 'chesterton-brown.txt',\n",
              " 'chesterton-thursday.txt',\n",
              " 'edgeworth-parents.txt',\n",
              " 'melville-moby_dick.txt',\n",
              " 'milton-paradise.txt',\n",
              " 'shakespeare-caesar.txt',\n",
              " 'shakespeare-hamlet.txt',\n",
              " 'shakespeare-macbeth.txt',\n",
              " 'whitman-leaves.txt']"
            ]
          },
          "metadata": {},
          "execution_count": 58
        }
      ]
    },
    {
      "cell_type": "code",
      "source": [
        "inaugural.fileids()"
      ],
      "metadata": {
        "colab": {
          "base_uri": "https://localhost:8080/"
        },
        "id": "4c48FTjCdMv3",
        "outputId": "5282d1b2-77ef-4e2b-81f4-cf824a816917"
      },
      "execution_count": null,
      "outputs": [
        {
          "output_type": "execute_result",
          "data": {
            "text/plain": [
              "['1789-Washington.txt',\n",
              " '1793-Washington.txt',\n",
              " '1797-Adams.txt',\n",
              " '1801-Jefferson.txt',\n",
              " '1805-Jefferson.txt',\n",
              " '1809-Madison.txt',\n",
              " '1813-Madison.txt',\n",
              " '1817-Monroe.txt',\n",
              " '1821-Monroe.txt',\n",
              " '1825-Adams.txt',\n",
              " '1829-Jackson.txt',\n",
              " '1833-Jackson.txt',\n",
              " '1837-VanBuren.txt',\n",
              " '1841-Harrison.txt',\n",
              " '1845-Polk.txt',\n",
              " '1849-Taylor.txt',\n",
              " '1853-Pierce.txt',\n",
              " '1857-Buchanan.txt',\n",
              " '1861-Lincoln.txt',\n",
              " '1865-Lincoln.txt',\n",
              " '1869-Grant.txt',\n",
              " '1873-Grant.txt',\n",
              " '1877-Hayes.txt',\n",
              " '1881-Garfield.txt',\n",
              " '1885-Cleveland.txt',\n",
              " '1889-Harrison.txt',\n",
              " '1893-Cleveland.txt',\n",
              " '1897-McKinley.txt',\n",
              " '1901-McKinley.txt',\n",
              " '1905-Roosevelt.txt',\n",
              " '1909-Taft.txt',\n",
              " '1913-Wilson.txt',\n",
              " '1917-Wilson.txt',\n",
              " '1921-Harding.txt',\n",
              " '1925-Coolidge.txt',\n",
              " '1929-Hoover.txt',\n",
              " '1933-Roosevelt.txt',\n",
              " '1937-Roosevelt.txt',\n",
              " '1941-Roosevelt.txt',\n",
              " '1945-Roosevelt.txt',\n",
              " '1949-Truman.txt',\n",
              " '1953-Eisenhower.txt',\n",
              " '1957-Eisenhower.txt',\n",
              " '1961-Kennedy.txt',\n",
              " '1965-Johnson.txt',\n",
              " '1969-Nixon.txt',\n",
              " '1973-Nixon.txt',\n",
              " '1977-Carter.txt',\n",
              " '1981-Reagan.txt',\n",
              " '1985-Reagan.txt',\n",
              " '1989-Bush.txt',\n",
              " '1993-Clinton.txt',\n",
              " '1997-Clinton.txt',\n",
              " '2001-Bush.txt',\n",
              " '2005-Bush.txt',\n",
              " '2009-Obama.txt',\n",
              " '2013-Obama.txt',\n",
              " '2017-Trump.txt',\n",
              " '2021-Biden.txt']"
            ]
          },
          "metadata": {},
          "execution_count": 60
        }
      ]
    },
    {
      "cell_type": "code",
      "source": [
        "t = inaugural.words('1897-McKinley.txt')"
      ],
      "metadata": {
        "id": "5veXzrCScT9f"
      },
      "execution_count": null,
      "outputs": []
    },
    {
      "cell_type": "code",
      "source": [
        "\n",
        "t_string = \" \".join(t)\n",
        "print(t_string)"
      ],
      "metadata": {
        "colab": {
          "base_uri": "https://localhost:8080/"
        },
        "id": "Hyg-7DAEfEsL",
        "outputId": "91ad8102-6388-47df-ff0a-ae358dce756c"
      },
      "execution_count": null,
      "outputs": [
        {
          "output_type": "stream",
          "name": "stdout",
          "text": [
            "Fellow citizens , In obedience to the will of the people , and in their presence , by the authority vested in me by this oath , I assume the arduous and responsible duties of President of the United States , relying upon the support of my countrymen and invoking the guidance of Almighty God . Our faith teaches that there is no safer reliance than upon the God of our fathers , who has so singularly favored the American people in every national trial , and who will not forsake us so long as we obey His commandments and walk humbly in His footsteps . The responsibilities of the high trust to which I have been called -- always of grave importance -- are augmented by the prevailing business conditions entailing idleness upon willing labor and loss to useful enterprises . The country is suffering from industrial disturbances from which speedy relief must be had . Our financial system needs some revision ; our money is all good now , but its value must not further be threatened . It should all be put upon an enduring basis , not subject to easy attack , nor its stability to doubt or dispute . Our currency should continue under the supervision of the Government . The several forms of our paper money offer , in my judgment , a constant embarrassment to the Government and a safe balance in the Treasury . Therefore I believe it necessary to devise a system which , without diminishing the circulating medium or offering a premium for its contraction , will present a remedy for those arrangements which , temporary in their nature , might well in the years of our prosperity have been displaced by wiser provisions . With adequate revenue secured , but not until then , we can enter upon such changes in our fiscal laws as will , while insuring safety and volume to our money , no longer impose upon the Government the necessity of maintaining so large a gold reserve , with its attendant and inevitable temptations to speculation . Most of our financial laws are the outgrowth of experience and trial , and should not be amended without investigation and demonstration of the wisdom of the proposed changes . We must be both \" sure we are right \" and \" make haste slowly .\" If , therefore , Congress , in its wisdom , shall deem it expedient to create a commission to take under early consideration the revision of our coinage , banking and currency laws , and give them that exhaustive , careful and dispassionate examination that their importance demands , I shall cordially concur in such action . If such power is vested in the President , it is my purpose to appoint a commission of prominent , well - informed citizens of different parties , who will command public confidence , both on account of their ability and special fitness for the work . Business experience and public training may thus be combined , and the patriotic zeal of the friends of the country be so directed that such a report will be made as to receive the support of all parties , and our finances cease to be the subject of mere partisan contention . The experiment is , at all events , worth a trial , and , in my opinion , it can but prove beneficial to the entire country . The question of international bimetallism will have early and earnest attention . It will be my constant endeavor to secure it by co - operation with the other great commercial powers of the world . Until that condition is realized when the parity between our gold and silver money springs from and is supported by the relative value of the two metals , the value of the silver already coined and of that which may hereafter be coined , must be kept constantly at par with gold by every resource at our command . The credit of the Government , the integrity of its currency , and the inviolability of its obligations must be preserved . This was the commanding verdict of the people , and it will not be unheeded . Economy is demanded in every branch of the Government at all times , but especially in periods , like the present , of depression in business and distress among the people . The severest economy must be observed in all public expenditures , and extravagance stopped wherever it is found , and prevented wherever in the future it may be developed . If the revenues are to remain as now , the only relief that can come must be from decreased expenditures . But the present must not become the permanent condition of the Government . It has been our uniform practice to retire , not increase our outstanding obligations , and this policy must again be resumed and vigorously enforced . Our revenues should always be large enough to meet with ease and promptness not only our current needs and the principal and interest of the public debt , but to make proper and liberal provision for that most deserving body of public creditors , the soldiers and sailors and the widows and orphans who are the pensioners of the United States . The Government should not be permitted to run behind or increase its debt in times like the present . Suitably to provide against this is the mandate of duty -- the certain and easy remedy for most of our financial difficulties . A deficiency is inevitable so long as the expenditures of the Government exceed its receipts . It can only be met by loans or an increased revenue . While a large annual surplus of revenue may invite waste and extravagance , inadequate revenue creates distrust and undermines public and private credit . Neither should be encouraged . Between more loans and more revenue there ought to be but one opinion . We should have more revenue , and that without delay , hindrance , or postponement . A surplus in the Treasury created by loans is not a permanent or safe reliance . It will suffice while it lasts , but it can not last long while the outlays of the Government are greater than its receipts , as has been the case during the past two years . Nor must it be forgotten that however much such loans may temporarily relieve the situation , the Government is still indebted for the amount of the surplus thus accrued , which it must ultimately pay , while its ability to pay is not strengthened , but weakened by a continued deficit . Loans are imperative in great emergencies to preserve the Government or its credit , but a failure to supply needed revenue in time of peace for the maintenance of either has no justification . The best way for the Government to maintain its credit is to pay as it goes -- not by resorting to loans , but by keeping out of debt -- through an adequate income secured by a system of taxation , external or internal , or both . It is the settled policy of the Government , pursued from the beginning and practiced by all parties and Administrations , to raise the bulk of our revenue from taxes upon foreign productions entering the United States for sale and consumption , and avoiding , for the most part , every form of direct taxation , except in time of war . The country is clearly opposed to any needless additions to the subject of internal taxation , and is committed by its latest popular utterance to the system of tariff taxation . There can be no misunderstanding , either , about the principle upon which this tariff taxation shall be levied . Nothing has ever been made plainer at a general election than that the controlling principle in the raising of revenue from duties on imports is zealous care for American interests and American labor . The people have declared that such legislation should be had as will give ample protection and encouragement to the industries and the development of our country . It is , therefore , earnestly hoped and expected that Congress will , at the earliest practicable moment , enact revenue legislation that shall be fair , reasonable , conservative , and just , and which , while supplying sufficient revenue for public purposes , will still be signally beneficial and helpful to every section and every enterprise of the people . To this policy we are all , of whatever party , firmly bound by the voice of the people -- a power vastly more potential than the expression of any political platform . The paramount duty of Congress is to stop deficiencies by the restoration of that protective legislation which has always been the firmest prop of the Treasury . The passage of such a law or laws would strengthen the credit of the Government both at home and abroad , and go far toward stopping the drain upon the gold reserve held for the redemption of our currency , which has been heavy and well - nigh constant for several years . In the revision of the tariff especial attention should be given to the re - enactment and extension of the reciprocity principle of the law of 1890 , under which so great a stimulus was given to our foreign trade in new and advantageous markets for our surplus agricultural and manufactured products . The brief trial given this legislation amply justifies a further experiment and additional discretionary power in the making of commercial treaties , the end in view always to be the opening up of new markets for the products of our country , by granting concessions to the products of other lands that we need and cannot produce ourselves , and which do not involve any loss of labor to our own people , but tend to increase their employment . The depression of the past four years has fallen with especial severity upon the great body of toilers of the country , and upon none more than the holders of small farms . Agriculture has languished and labor suffered . The revival of manufacturing will be a relief to both . No portion of our population is more devoted to the institution of free government nor more loyal in their support , while none bears more cheerfully or fully its proper share in the maintenance of the Government or is better entitled to its wise and liberal care and protection . Legislation helpful to producers is beneficial to all . The depressed condition of industry on the farm and in the mine and factory has lessened the ability of the people to meet the demands upon them , and they rightfully expect that not only a system of revenue shall be established that will secure the largest income with the least burden , but that every means will be taken to decrease , rather than increase , our public expenditures . Business conditions are not the most promising . It will take time to restore the prosperity of former years . If we cannot promptly attain it , we can resolutely turn our faces in that direction and aid its return by friendly legislation . However troublesome the situation may appear , Congress will not , I am sure , be found lacking in disposition or ability to relieve it as far as legislation can do so . The restoration of confidence and the revival of business , which men of all parties so much desire , depend more largely upon the prompt , energetic , and intelligent action of Congress than upon any other single agency affecting the situation . It is inspiring , too , to remember that no great emergency in the one hundred and eight years of our eventful national life has ever arisen that has not been met with wisdom and courage by the American people , with fidelity to their best interests and highest destiny , and to the honor of the American name . These years of glorious history have exalted mankind and advanced the cause of freedom throughout the world , and immeasurably strengthened the precious free institutions which we enjoy . The people love and will sustain these institutions . The great essential to our happiness and prosperity is that we adhere to the principles upon which the Government was established and insist upon their faithful observance . Equality of rights must prevail , and our laws be always and everywhere respected and obeyed . We may have failed in the discharge of our full duty as citizens of the great Republic , but it is consoling and encouraging to realize that free speech , a free press , free thought , free schools , the free and unmolested right of religious liberty and worship , and free and fair elections are dearer and more universally enjoyed to - day than ever before . These guaranties must be sacredly preserved and wisely strengthened . The constituted authorities must be cheerfully and vigorously upheld . Lynchings must not be tolerated in a great and civilized country like the United States ; courts , not mobs , must execute the penalties of the law . The preservation of public order , the right of discussion , the integrity of courts , and the orderly administration of justice must continue forever the rock of safety upon which our Government securely rests . One of the lessons taught by the late election , which all can rejoice in , is that the citizens of the United States are both law - respecting and law - abiding people , not easily swerved from the path of patriotism and honor . This is in entire accord with the genius of our institutions , and but emphasizes the advantages of inculcating even a greater love for law and order in the future . Immunity should be granted to none who violate the laws , whether individuals , corporations , or communities ; and as the Constitution imposes upon the President the duty of both its own execution , and of the statutes enacted in pursuance of its provisions , I shall endeavor carefully to carry them into effect . The declaration of the party now restored to power has been in the past that of \" opposition to all combinations of capital organized in trusts , or otherwise , to control arbitrarily the condition of trade among our citizens ,\" and it has supported \" such legislation as will prevent the execution of all schemes to oppress the people by undue charges on their supplies , or by unjust rates for the transportation of their products to the market .\" This purpose will be steadily pursued , both by the enforcement of the laws now in existence and the recommendation and support of such new statutes as may be necessary to carry it into effect . Our naturalization and immigration laws should be further improved to the constant promotion of a safer , a better , and a higher citizenship . A grave peril to the Republic would be a citizenship too ignorant to understand or too vicious to appreciate the great value and beneficence of our institutions and laws , and against all who come here to make war upon them our gates must be promptly and tightly closed . Nor must we be unmindful of the need of improvement among our own citizens , but with the zeal of our forefathers encourage the spread of knowledge and free education . Illiteracy must be banished from the land if we shall attain that high destiny as the foremost of the enlightened nations of the world which , under Providence , we ought to achieve . Reforms in the civil service must go on ; but the changes should be real and genuine , not perfunctory , or prompted by a zeal in behalf of any party simply because it happens to be in power . As a member of Congress I voted and spoke in favor of the present law , and I shall attempt its enforcement in the spirit in which it was enacted . The purpose in view was to secure the most efficient service of the best men who would accept appointment under the Government , retaining faithful and devoted public servants in office , but shielding none , under the authority of any rule or custom , who are inefficient , incompetent , or unworthy . The best interests of the country demand this , and the people heartily approve the law wherever and whenever it has been thus administrated . Congress should give prompt attention to the restoration of our American merchant marine , once the pride of the seas in all the great ocean highways of commerce . To my mind , few more important subjects so imperatively demand its intelligent consideration . The United States has progressed with marvelous rapidity in every field of enterprise and endeavor until we have become foremost in nearly all the great lines of inland trade , commerce , and industry . Yet , while this is true , our American merchant marine has been steadily declining until it is now lower , both in the percentage of tonnage and the number of vessels employed , than it was prior to the Civil War . Commendable progress has been made of late years in the upbuilding of the American Navy , but we must supplement these efforts by providing as a proper consort for it a merchant marine amply sufficient for our own carrying trade to foreign countries . The question is one that appeals both to our business necessities and the patriotic aspirations of a great people . It has been the policy of the United States since the foundation of the Government to cultivate relations of peace and amity with all the nations of the world , and this accords with my conception of our duty now . We have cherished the policy of non - interference with affairs of foreign governments wisely inaugurated by Washington , keeping ourselves free from entanglement , either as allies or foes , content to leave undisturbed with them the settlement of their own domestic concerns . It will be our aim to pursue a firm and dignified foreign policy , which shall be just , impartial , ever watchful of our national honor , and always insisting upon the enforcement of the lawful rights of American citizens everywhere . Our diplomacy should seek nothing more and accept nothing less than is due us . We want no wars of conquest ; we must avoid the temptation of territorial aggression . War should never be entered upon until every agency of peace has failed ; peace is preferable to war in almost every contingency . Arbitration is the true method of settlement of international as well as local or individual differences . It was recognized as the best means of adjustment of differences between employers and employees by the Forty - ninth Congress , in 1886 , and its application was extended to our diplomatic relations by the unanimous concurrence of the Senate and House of the Fifty - first Congress in 1890 . The latter resolution was accepted as the basis of negotiations with us by the British House of Commons in 1893 , and upon our invitation a treaty of arbitration between the United States and Great Britain was signed at Washington and transmitted to the Senate for its ratification in January last . Since this treaty is clearly the result of our own initiative ; since it has been recognized as the leading feature of our foreign policy throughout our entire history -- the adjustment of difficulties by judicial methods rather than force of arms -- and since it presents to the world the glorious example of reason and peace , not passion and war , controlling the relations between two of the greatest nations in the world , an example certain to be followed by others , I respectfully urge the early action of the Senate thereon , not merely as a matter of policy , but as a duty to mankind . The importance and moral influence of the ratification of such a treaty can hardly be overestimated in the cause of advancing civilization . It may well engage the best thought of the statesmen and people of every country , and I cannot but consider it fortunate that it was reserved to the United States to have the leadership in so grand a work . It has been the uniform practice of each President to avoid , as far as possible , the convening of Congress in extraordinary session . It is an example which , under ordinary circumstances and in the absence of a public necessity , is to be commended . But a failure to convene the representatives of the people in Congress in extra session when it involves neglect of a public duty places the responsibility of such neglect upon the Executive himself . The condition of the public Treasury , as has been indicated , demands the immediate consideration of Congress . It alone has the power to provide revenues for the Government . Not to convene it under such circumstances I can view in no other sense than the neglect of a plain duty . I do not sympathize with the sentiment that Congress in session is dangerous to our general business interests . Its members are the agents of the people , and their presence at the seat of Government in the execution of the sovereign will should not operate as an injury , but a benefit . There could be no better time to put the Government upon a sound financial and economic basis than now . The people have only recently voted that this should be done , and nothing is more binding upon the agents of their will than the obligation of immediate action . It has always seemed to me that the postponement of the meeting of Congress until more than a year after it has been chosen deprived Congress too often of the inspiration of the popular will and the country of the corresponding benefits . It is evident , therefore , that to postpone action in the presence of so great a necessity would be unwise on the part of the Executive because unjust to the interests of the people . Our action now will be freer from mere partisan consideration than if the question of tariff revision was postponed until the regular session of Congress . We are nearly two years from a Congressional election , and politics cannot so greatly distract us as if such contest was immediately pending . We can approach the problem calmly and patriotically , without fearing its effect upon an early election . Our fellow - citizens who may disagree with us upon the character of this legislation prefer to have the question settled now , even against their preconceived views , and perhaps settled so reasonably , as I trust and believe it will be , as to insure great permanence , than to have further uncertainty menacing the vast and varied business interests of the United States . Again , whatever action Congress may take will be given a fair opportunity for trial before the people are called to pass judgment upon it , and this I consider a great essential to the rightful and lasting settlement of the question . In view of these considerations , I shall deem it my duty as President to convene Congress in extraordinary session on Monday , the 15th day of March , 1897 . In conclusion , I congratulate the country upon the fraternal spirit of the people and the manifestations of good will everywhere so apparent . The recent election not only most fortunately demonstrated the obliteration of sectional or geographical lines , but to some extent also the prejudices which for years have distracted our councils and marred our true greatness as a nation . The triumph of the people , whose verdict is carried into effect today , is not the triumph of one section , nor wholly of one party , but of all sections and all the people . The North and the South no longer divide on the old lines , but upon principles and policies ; and in this fact surely every lover of the country can find cause for true felicitation . Let us rejoice in and cultivate this spirit ; it is ennobling and will be both a gain and a blessing to our beloved country . It will be my constant aim to do nothing , and permit nothing to be done , that will arrest or disturb this growing sentiment of unity and cooperation , this revival of esteem and affiliation which now animates so many thousands in both the old antagonistic sections , but I shall cheerfully do everything possible to promote and increase it . Let me again repeat the words of the oath administered by the Chief Justice which , in their respective spheres , so far as applicable , I would have all my countrymen observe : \" I will faithfully execute the office of President of the United States , and will , to the best of my ability , preserve , protect , and defend the Constitution of the United States .\" This is the obligation I have reverently taken before the Lord Most High . To keep it will be my single purpose , my constant prayer ; and I shall confidently rely upon the forbearance and assistance of all the people in the discharge of my solemn responsibilities .\n"
          ]
        }
      ]
    },
    {
      "cell_type": "code",
      "source": [
        ""
      ],
      "metadata": {
        "id": "i6XIjKYreAV6"
      },
      "execution_count": null,
      "outputs": []
    },
    {
      "cell_type": "code",
      "source": [
        "print(nltk.Text(inaugural.words('1897-McKinley.txt')))"
      ],
      "metadata": {
        "colab": {
          "base_uri": "https://localhost:8080/"
        },
        "id": "Gi9lEM05dp4y",
        "outputId": "4718bb39-adda-42d0-b3b2-d08d455941e4"
      },
      "execution_count": null,
      "outputs": [
        {
          "output_type": "stream",
          "name": "stdout",
          "text": [
            "<Text: Fellow citizens , In obedience to the will...>\n"
          ]
        }
      ]
    },
    {
      "cell_type": "markdown",
      "source": [
        "Other languages"
      ],
      "metadata": {
        "id": "Gj1PsEVkgIhU"
      }
    },
    {
      "cell_type": "code",
      "source": [
        "nltk.download('swadesh')"
      ],
      "metadata": {
        "colab": {
          "base_uri": "https://localhost:8080/"
        },
        "id": "6Bbmpvk8gKTO",
        "outputId": "2027c30d-d31d-4d45-f2aa-a86049b76f83"
      },
      "execution_count": null,
      "outputs": [
        {
          "output_type": "stream",
          "name": "stdout",
          "text": [
            "[nltk_data] Downloading package swadesh to /root/nltk_data...\n",
            "[nltk_data]   Package swadesh is already up-to-date!\n"
          ]
        },
        {
          "output_type": "execute_result",
          "data": {
            "text/plain": [
              "True"
            ]
          },
          "metadata": {},
          "execution_count": 71
        }
      ]
    },
    {
      "cell_type": "code",
      "source": [
        "from nltk.corpus import swadesh\n",
        "\n",
        "swadesh.fileids()"
      ],
      "metadata": {
        "colab": {
          "base_uri": "https://localhost:8080/"
        },
        "id": "6E3Q6romgawA",
        "outputId": "3073bcc7-3f6b-4a01-b166-b8551779ecde"
      },
      "execution_count": null,
      "outputs": [
        {
          "output_type": "execute_result",
          "data": {
            "text/plain": [
              "['be',\n",
              " 'bg',\n",
              " 'bs',\n",
              " 'ca',\n",
              " 'cs',\n",
              " 'cu',\n",
              " 'de',\n",
              " 'en',\n",
              " 'es',\n",
              " 'fr',\n",
              " 'hr',\n",
              " 'it',\n",
              " 'la',\n",
              " 'mk',\n",
              " 'nl',\n",
              " 'pl',\n",
              " 'pt',\n",
              " 'ro',\n",
              " 'ru',\n",
              " 'sk',\n",
              " 'sl',\n",
              " 'sr',\n",
              " 'sw',\n",
              " 'uk']"
            ]
          },
          "metadata": {},
          "execution_count": 73
        }
      ]
    },
    {
      "cell_type": "code",
      "source": [
        "fr2en = swadesh.entries(['fr', 'en'])\n",
        "fr2en"
      ],
      "metadata": {
        "id": "ovqgj1rWgwh5"
      },
      "execution_count": null,
      "outputs": []
    },
    {
      "cell_type": "code",
      "source": [
        "translate = dict(fr2en)\n",
        "translate['eau']\n"
      ],
      "metadata": {
        "colab": {
          "base_uri": "https://localhost:8080/",
          "height": 35
        },
        "id": "rckFoulCgtwl",
        "outputId": "ea8ff995-735e-4753-b541-b2be12695905"
      },
      "execution_count": null,
      "outputs": [
        {
          "output_type": "execute_result",
          "data": {
            "text/plain": [
              "'water'"
            ],
            "application/vnd.google.colaboratory.intrinsic+json": {
              "type": "string"
            }
          },
          "metadata": {},
          "execution_count": 76
        }
      ]
    },
    {
      "cell_type": "code",
      "source": [
        "languages = ['en', 'de', 'es', 'fr']\n",
        "for i in [139, 140, 141,142]:\n",
        "  print(swadesh.entries(languages)[i])\n"
      ],
      "metadata": {
        "colab": {
          "base_uri": "https://localhost:8080/"
        },
        "id": "-Pi5CMUbhfbd",
        "outputId": "eca742a8-cb9d-4c64-c3b2-a3f5c59a2508"
      },
      "execution_count": null,
      "outputs": [
        {
          "output_type": "stream",
          "name": "stdout",
          "text": [
            "('say', 'sagen', 'decir', 'dire')\n",
            "('sing', 'singen', 'cantar', 'chanter')\n",
            "('play', 'spielen', 'jugar', 'jouer')\n",
            "('float', 'schweben', 'flotar', 'flotter')\n"
          ]
        }
      ]
    },
    {
      "cell_type": "code",
      "source": [
        "from nltk.corpus import wordnet as wn\n",
        "wn.synsets('bank')"
      ],
      "metadata": {
        "colab": {
          "base_uri": "https://localhost:8080/"
        },
        "id": "W9SvsJdtjewG",
        "outputId": "21b77bae-7b31-4191-f0e6-de60d37e1b56"
      },
      "execution_count": null,
      "outputs": [
        {
          "output_type": "execute_result",
          "data": {
            "text/plain": [
              "[Synset('bank.n.01'),\n",
              " Synset('depository_financial_institution.n.01'),\n",
              " Synset('bank.n.03'),\n",
              " Synset('bank.n.04'),\n",
              " Synset('bank.n.05'),\n",
              " Synset('bank.n.06'),\n",
              " Synset('bank.n.07'),\n",
              " Synset('savings_bank.n.02'),\n",
              " Synset('bank.n.09'),\n",
              " Synset('bank.n.10'),\n",
              " Synset('bank.v.01'),\n",
              " Synset('bank.v.02'),\n",
              " Synset('bank.v.03'),\n",
              " Synset('bank.v.04'),\n",
              " Synset('bank.v.05'),\n",
              " Synset('deposit.v.02'),\n",
              " Synset('bank.v.07'),\n",
              " Synset('trust.v.01')]"
            ]
          },
          "metadata": {},
          "execution_count": 80
        }
      ]
    }
  ]
}